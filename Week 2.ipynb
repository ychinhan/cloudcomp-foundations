{
 "cells": [
  {
   "cell_type": "markdown",
   "id": "babaf24f",
   "metadata": {},
   "source": [
    "# Introduction to Cloud Computing\n",
    "This is a sample code as requested for Week 2's assignment. I am required to:\n",
    "* Print a `hello world` statement"
   ]
  },
  {
   "cell_type": "code",
   "execution_count": 1,
   "id": "1eebd4fa",
   "metadata": {},
   "outputs": [
    {
     "name": "stdout",
     "output_type": "stream",
     "text": [
      "hello world\n"
     ]
    }
   ],
   "source": [
    "print(\"hello world\")"
   ]
  }
 ],
 "metadata": {
  "kernelspec": {
   "display_name": "Python 3 (ipykernel)",
   "language": "python",
   "name": "python3"
  },
  "language_info": {
   "codemirror_mode": {
    "name": "ipython",
    "version": 3
   },
   "file_extension": ".py",
   "mimetype": "text/x-python",
   "name": "python",
   "nbconvert_exporter": "python",
   "pygments_lexer": "ipython3",
   "version": "3.11.5"
  }
 },
 "nbformat": 4,
 "nbformat_minor": 5
}
